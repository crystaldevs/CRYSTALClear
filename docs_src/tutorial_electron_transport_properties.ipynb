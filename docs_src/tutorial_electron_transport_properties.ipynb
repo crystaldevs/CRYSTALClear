{
 "cells": [
  {
   "cell_type": "markdown",
   "id": "73d3b4fe",
   "metadata": {},
   "source": [
    "# Transport properties plot"
   ]
  },
  {
   "cell_type": "code",
   "execution_count": null,
   "id": "b33a78f2",
   "metadata": {},
   "outputs": [],
   "source": [
    "pip install CRYSTALClear"
   ]
  },
  {
   "cell_type": "code",
   "execution_count": null,
   "id": "de804658",
   "metadata": {},
   "outputs": [],
   "source": [
    "from CRYSTALClear.crystal_io import Properties_output\n",
    "from CRYSTALClear import plot as CCplt"
   ]
  },
  {
   "cell_type": "markdown",
   "id": "d6c83304",
   "metadata": {},
   "source": [
    "Read a seebeck files"
   ]
  },
  {
   "cell_type": "code",
   "execution_count": null,
   "id": "4e86ebbd",
   "metadata": {},
   "outputs": [],
   "source": [
    "seebeck = Properties_output().read_cry_seebeck('transport_zrnisn_SEEBECK.DAT')"
   ]
  },
  {
   "cell_type": "code",
   "execution_count": null,
   "id": "f39506c0",
   "metadata": {},
   "outputs": [],
   "source": [
    "seebeck1 = Properties_output().read_cry_seebeck('transport_zrnisn_antisito_SEEBECK.DAT')"
   ]
  },
  {
   "cell_type": "markdown",
   "id": "65a5df9d",
   "metadata": {},
   "source": [
    "Plot seebeck versus the chemical potential"
   ]
  },
  {
   "cell_type": "code",
   "execution_count": null,
   "id": "494d9c6b",
   "metadata": {},
   "outputs": [],
   "source": [
    "CCplt.plot_cry_seebeck_potential(seebeck)"
   ]
  },
  {
   "cell_type": "markdown",
   "id": "ef39262e",
   "metadata": {},
   "source": [
    "Plot seebeck versus the charge carrier concentration"
   ]
  },
  {
   "cell_type": "code",
   "execution_count": null,
   "id": "62c9049a",
   "metadata": {},
   "outputs": [],
   "source": [
    "CCplt.plot_cry_seebeck_carrier(seebeck)"
   ]
  },
  {
   "cell_type": "markdown",
   "id": "b3b82987",
   "metadata": {},
   "source": [
    "Read a sigma files"
   ]
  },
  {
   "cell_type": "code",
   "execution_count": null,
   "id": "554eed0c",
   "metadata": {},
   "outputs": [],
   "source": [
    "sigma = Properties_output().read_cry_sigma('transport_zrnisn_SIGMA.DAT')"
   ]
  },
  {
   "cell_type": "code",
   "execution_count": null,
   "id": "733d3c39-6464-476b-a88e-2a29f91a967b",
   "metadata": {},
   "outputs": [],
   "source": [
    "sigma1 = Properties_output().read_cry_sigma('transport_zrnisn_antisito_SIGMA.DAT')"
   ]
  },
  {
   "cell_type": "markdown",
   "id": "23f40ee4",
   "metadata": {},
   "source": [
    "Plot sigma versus the chemical potential"
   ]
  },
  {
   "cell_type": "code",
   "execution_count": null,
   "id": "fcfd6f52",
   "metadata": {},
   "outputs": [],
   "source": [
    "CCplt.plot_cry_sigma_potential(sigma)"
   ]
  },
  {
   "cell_type": "markdown",
   "id": "a04ffc50",
   "metadata": {},
   "source": [
    "Plot multiseebeck "
   ]
  },
  {
   "cell_type": "code",
   "execution_count": null,
   "id": "f0d5383e",
   "metadata": {},
   "outputs": [],
   "source": [
    "CCplt.plot_cry_multiseebeck(seebeck, seebeck1)"
   ]
  },
  {
   "cell_type": "markdown",
   "id": "f74d74b7",
   "metadata": {},
   "source": [
    "Plot multisigma"
   ]
  },
  {
   "cell_type": "code",
   "execution_count": null,
   "id": "882e155b",
   "metadata": {},
   "outputs": [],
   "source": [
    "CCplt.plot_cry_multisigma(sigma, sigma1)"
   ]
  },
  {
   "cell_type": "markdown",
   "id": "ef8f56b5",
   "metadata": {},
   "source": [
    "Plot powerfactor"
   ]
  },
  {
   "cell_type": "code",
   "execution_count": null,
   "id": "8ff1da15",
   "metadata": {},
   "outputs": [],
   "source": [
    "CCplt.plot_cry_powerfactor_potential(seebeck, sigma)"
   ]
  },
  {
   "cell_type": "markdown",
   "id": "5584e40f",
   "metadata": {},
   "source": [
    "Plot ZT"
   ]
  },
  {
   "cell_type": "code",
   "execution_count": null,
   "id": "0cb516d4",
   "metadata": {},
   "outputs": [],
   "source": [
    "CCplt.plot_cry_zt(seebeck, sigma)"
   ]
  }
 ],
 "metadata": {
  "kernelspec": {
   "display_name": "Python 3 (ipykernel)",
   "language": "python",
   "name": "python3"
  },
  "language_info": {
   "codemirror_mode": {
    "name": "ipython",
    "version": 3
   },
   "file_extension": ".py",
   "mimetype": "text/x-python",
   "name": "python",
   "nbconvert_exporter": "python",
   "pygments_lexer": "ipython3",
   "version": "3.9.16"
  }
 },
 "nbformat": 4,
 "nbformat_minor": 5
}
