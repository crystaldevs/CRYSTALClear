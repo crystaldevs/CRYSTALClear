{
 "cells": [
  {
   "cell_type": "markdown",
   "id": "6b5a7d0b",
   "metadata": {},
   "source": [
    "# Elastic Properties: A Quick Overview"
   ]
  },
  {
   "cell_type": "markdown",
   "id": "0cb40050",
   "metadata": {},
   "source": [
    "<p>\n",
    "In crystals, the mechanical properties such as stiffness, strength, and ductility depend on the crystallographic direction in which the material is deformed. This directional dependence is due to the crystal's internal structure and symmetry, which leads to anisotropy in mechanical properties. In this context, the elastic response of any material is fully described by its fourth-rank elastic tensor. <br>\n",
    "    \n",
    "CRYSTALClear contains functions to read the computed elastic tensor from an elastic CRYSTAL calculation and to compute and plot several directional mechanical properties (Young modulus, linear compressibility, shear modulus and Poisson ratio).\n",
    "Please, note that the first essential step consists in running an elastic calculation with CRYSTAL by using the keyword ELASTCON (see the [User's Manual](https://www.crystal.unito.it/include/manuals/crystal23.pdf) for details).\n",
    "Below, we will provide examples on how to exploit such functionalities referring to a prototypical calculation on coesite mineral.<br>\n",
    "</p>"
   ]
  },
  {
   "cell_type": "code",
   "execution_count": null,
   "id": "b30db75a",
   "metadata": {},
   "outputs": [],
   "source": [
    "pip install CRYSTALClear"
   ]
  },
  {
   "cell_type": "code",
   "execution_count": null,
   "id": "29cad7e8",
   "metadata": {},
   "outputs": [],
   "source": [
    "from CRYSTALClear.crystal_io import Crystal_output\n",
    "import CRYSTALClear.plot as CCplt "
   ]
  },
  {
   "cell_type": "markdown",
   "id": "a7b4085e",
   "metadata": {},
   "source": [
    "<p>Now we need to create a CRYSTAL object (CO):</p>"
   ]
  },
  {
   "cell_type": "code",
   "execution_count": null,
   "id": "8c414444",
   "metadata": {},
   "outputs": [],
   "source": [
    "CO = Crystal_output(\"coesite_ela.out\")"
   ]
  },
  {
   "cell_type": "markdown",
   "id": "37dd3f5a",
   "metadata": {},
   "source": [
    "<p>The elastic tensor can be extracted by acting on such CO with the <em>get_elatensor()</em> method:</p>"
   ]
  },
  {
   "cell_type": "code",
   "execution_count": null,
   "id": "04bcbe20",
   "metadata": {},
   "outputs": [],
   "source": [
    "elatensor = CO.get_elatensor()"
   ]
  },
  {
   "cell_type": "markdown",
   "id": "b2f9b440",
   "metadata": {},
   "source": [
    "<p>Upon inspection, the variable is a 6x6 NumPy array, precisely as expected.</p>"
   ]
  },
  {
   "cell_type": "code",
   "execution_count": null,
   "id": "db0814ef",
   "metadata": {},
   "outputs": [],
   "source": [
    "elatensor"
   ]
  },
  {
   "cell_type": "markdown",
   "id": "3941ce89",
   "metadata": {},
   "source": [
    "<p>Before we proceed further, it would be useful to introduce some graphical representations of key geometrical parameters that will be referenced later. As we will see, some quantities depend on a single direction $\\mathbf{u}$ (and thus on two angles $\\vartheta$ and $\\varphi$ in spherical coordinates), while others depend on two directions $\\mathbf{u}$ and $\\mathbf{v}$ (if orthogonal, the two directions can be defined in terms of three angles $\\vartheta$, $\\varphi$, and $\\chi$ in spherical coordinates).</p>"
   ]
  },
  {
   "cell_type": "markdown",
   "id": "819f3d42",
   "metadata": {},
   "source": [
    "<img src=\"elavectors.png\" width=600 height=60 />"
   ]
  },
  {
   "cell_type": "markdown",
   "id": "f8b75f28",
   "metadata": {},
   "source": [
    "### Young Modulus"
   ]
  },
  {
   "cell_type": "markdown",
   "id": "f0ae1d94",
   "metadata": {},
   "source": [
    "<p>The Young modulus is a property that describes the stiffness or elasticity of a material, which is defined as the ratio of stress (force per unit area) to strain (change in length per unit length) under an applied load. For each direction (i.e., for each pair of $\\vartheta$ and $\\varphi$ angles), the value of Young modulus can be computed as:</p>"
   ]
  },
  {
   "cell_type": "markdown",
   "id": "e22933fb",
   "metadata": {},
   "source": [
    "\\begin{equation}\n",
    "E(\\vartheta, \\varphi) = \\frac{1} {u_i u_j u_k u_l S_{ijkl}}\n",
    "\\end{equation}"
   ]
  },
  {
   "cell_type": "markdown",
   "id": "53db96dd",
   "metadata": {},
   "source": [
    "<p>where $S_{ijkl}$ is an element of the inverse of the elastic tensor and the Einstein summation convention on repeated indices has been adopted.<br>\n",
    "In order to get a three-dimensional representation of the Young modulus, we can simply use the <em>plot_cry_ela()</em> function as shown below:  \n",
    "</p>"
   ]
  },
  {
   "cell_type": "code",
   "execution_count": null,
   "id": "ee5b0b0e",
   "metadata": {},
   "outputs": [],
   "source": [
    "CCplt.plot_cry_ela(\"young\", 200, elatensor)"
   ]
  },
  {
   "cell_type": "markdown",
   "id": "35d2d4bb",
   "metadata": {},
   "source": [
    "<p>In this case, the function requires three arguments:<br>\n",
    "    1. a string which specifies the type of quantity that must be plotted (i.e., <em>\"young\"</em> for Young modulus)<br>\n",
    "    2. the angular resolution of the plot (higher values corresponds to higher definition as well as higher rendering time);<br>\n",
    "    3. a 6x6 numpy array containing the elastic tensor of the system (i.e., <em>elatensor</em>)<br>\n",
    "</p>"
   ]
  },
  {
   "cell_type": "markdown",
   "id": "693262fd",
   "metadata": {},
   "source": [
    "### Linear Compressibility"
   ]
  },
  {
   "cell_type": "markdown",
   "id": "a9144104",
   "metadata": {},
   "source": [
    "<p>The linear compressibility describes the linear strain under the application of an external hydrostatic stress. For each direction (i.e., for each pair of $\\vartheta$ and $\\varphi$ angles), the value of linear compressibility can be computed as:</p>"
   ]
  },
  {
   "cell_type": "markdown",
   "id": "4b22f65d",
   "metadata": {},
   "source": [
    "\\begin{equation}\n",
    "\\beta(\\vartheta, \\varphi) = S_{ijkl} u_i u_j\n",
    "\\end{equation}"
   ]
  },
  {
   "cell_type": "markdown",
   "id": "7e9f9b3a",
   "metadata": {},
   "source": [
    "<p>Also in this case, in order to get the desired plot, we can use a syntax similar to the one presented above:</p>"
   ]
  },
  {
   "cell_type": "code",
   "execution_count": null,
   "id": "72b89bb0",
   "metadata": {},
   "outputs": [],
   "source": [
    "CCplt.plot_cry_ela(\"comp\", 200, elatensor)"
   ]
  },
  {
   "cell_type": "markdown",
   "id": "427944da",
   "metadata": {},
   "source": [
    "### Shear Modulus"
   ]
  },
  {
   "cell_type": "markdown",
   "id": "f102b2f1",
   "metadata": {},
   "source": [
    "Shear modulus is a measure of the elastic shear stiffness, which describes the strain response to a shear stress. Its value depends on two different directions (described by $\\vartheta$, $\\varphi$ and $\\chi$ angles) and can be evaluated as:"
   ]
  },
  {
   "cell_type": "markdown",
   "id": "1f8c2418",
   "metadata": {},
   "source": [
    "\\begin{equation}\n",
    "G(\\vartheta, \\varphi, \\chi) = \\frac{1} {u_i v_j u_k v_l S_{ijkl}}\n",
    "\\end{equation}"
   ]
  },
  {
   "cell_type": "markdown",
   "id": "2bc7468e",
   "metadata": {},
   "source": [
    "<p>A three-dimensional representation of a quantity that depends on three variables is not trivial. A popular strategy involves computing the shear modulus for all values of the angle $\\chi$ along each direction (i.e., for each pair of $\\vartheta$ and $\\varphi$ angles), and then storing the maximum (<em>max</em>), minimum (<em>min</em>) and average (<em>avg</em>) values.<br>\n",
    "Suppose we are interested in the computation of the minimum values of shear modulus, thus the following syntax must be adopted:</p>"
   ]
  },
  {
   "cell_type": "code",
   "execution_count": null,
   "id": "4286b9bd",
   "metadata": {},
   "outputs": [],
   "source": [
    "CCplt.plot_cry_ela(\"shear min\", 200, elatensor)"
   ]
  },
  {
   "cell_type": "markdown",
   "id": "5dc8336b",
   "metadata": {},
   "source": [
    "### Poisson Ratio"
   ]
  },
  {
   "cell_type": "markdown",
   "id": "7547e9ee",
   "metadata": {},
   "source": [
    "The last subject of this tutorial is the directional Poisson ratio, a quantity defined as the ratio of the transverse strain (i.e., the change in width or thickness) to the axial strain (i.e., the change in length) when a force is applied in a specific direction. In other words, if a material is stretched in one direction, the directional Poisson ratio tells us how much it will contract in the perpendicular direction. Just like for the shear modulus, its value depends on two directions and can be computed as:"
   ]
  },
  {
   "cell_type": "markdown",
   "id": "263673f9",
   "metadata": {},
   "source": [
    "\\begin{equation}\n",
    "\\nu (\\vartheta, \\varphi, \\chi) = \\frac {u_i u_j v_k v_l S_{ijkl}} {u_i u_j u_k u_l S_{ijkl}}\n",
    "\\end{equation}"
   ]
  },
  {
   "cell_type": "markdown",
   "id": "6ff21a65",
   "metadata": {},
   "source": [
    "A plotting strategy analogous to the one described above has been implemented. Thus, if we want to plot the average Poisson ratio of coesite, we use the following syntax:"
   ]
  },
  {
   "cell_type": "code",
   "execution_count": null,
   "id": "7a71bce4",
   "metadata": {},
   "outputs": [],
   "source": [
    "CCplt.plot_cry_ela(\"poisson avg\", 200, elatensor)"
   ]
  },
  {
   "cell_type": "markdown",
   "id": "4cbf5f9e",
   "metadata": {},
   "source": [
    "### Comparison Between Plots"
   ]
  },
  {
   "cell_type": "markdown",
   "id": "3fdbf885",
   "metadata": {},
   "source": [
    "<p>By providing multiple elastic tensors, it becomes possible to establish a fixed color scale that can be used consistently throughout various plots. This means that instead of having varying color scales for each plot, which can lead to confusion and misinterpretation of data, a single reference color scale can be used as a benchmark for all plots.<br>\n",
    "For instance, one can be interested in evaluating the effect of pressure on the Young modulus of a certain material. Let us suppose we have previously run several elastic calculations on ZIF-8 with CRYSTAL at different values of pressure in range 0-0.4 GPa.<br>\n",
    "    \n",
    "Let's create a list of CRYSTAL objects: </p>\n"
   ]
  },
  {
   "cell_type": "code",
   "execution_count": null,
   "id": "96cf0494",
   "metadata": {},
   "outputs": [],
   "source": [
    "file_list = [\"ZIF8_P0.out\", \"ZIF8_P01.out\", \"ZIF8_P02.out\", \"ZIF8_P03.out\", \"ZIF8_P04.out\"]\n",
    "CO = []\n",
    "for file in file_list:\n",
    "    CO.append(Crystal_output(file))"
   ]
  },
  {
   "cell_type": "markdown",
   "id": "c9a0a196",
   "metadata": {},
   "source": [
    "<p>Then, we can easily extract our elastic tensors and store them into a list:</p>"
   ]
  },
  {
   "cell_type": "code",
   "execution_count": null,
   "id": "c1a0377b",
   "metadata": {},
   "outputs": [],
   "source": [
    "tensor = []\n",
    "for i in range(5):\n",
    "    tensor.append(CO[i].get_elatensor())"
   ]
  },
  {
   "cell_type": "markdown",
   "id": "86fa7e0e",
   "metadata": {},
   "source": [
    "<p>We are now ready to plot them through this simple syntax!<p>"
   ]
  },
  {
   "cell_type": "code",
   "execution_count": null,
   "id": "d9c314d6",
   "metadata": {
    "scrolled": false
   },
   "outputs": [],
   "source": [
    "CCplt.plot_cry_ela(\"young\", 200, tensor[0], tensor[1], tensor[2], tensor[3], tensor[4])"
   ]
  },
  {
   "cell_type": "markdown",
   "id": "284d1fa1",
   "metadata": {},
   "source": [
    "<p>Although <em>plot_cry_ela()</em> function is able to handle any number of elastic tensors provided as arguments, the computation of properties depending on two directions (i.e., shear modulus and Poisson ratio) is quite demanding from a computational point of view - just take a cup of tea and enjoy.<br>\n",
    "</p>"
   ]
  },
  {
   "cell_type": "markdown",
   "id": "57dcea99",
   "metadata": {},
   "source": [
    "| Quantity               | Description                   | String                                           |\n",
    "| :---                   | :----                         | :---                                            |\n",
    "| Young Modulus          |                               | `young`                                         |\n",
    "| Linear Compressibility |                               | `comp`                                          |\n",
    "| Shear Modulus          | maximum<br>minimum<br>average | `shear max`<br>`shear min`<br>`shear avg`       |\n",
    "| Poisson Ratio          | maximum<br>minimum<br>average | `poisson max`<br>`poisson min`<br>`poisson avg` |"
   ]
  }
 ],
 "metadata": {
  "kernelspec": {
   "display_name": "Python 3 (ipykernel)",
   "language": "python",
   "name": "python3"
  },
  "language_info": {
   "codemirror_mode": {
    "name": "ipython",
    "version": 3
   },
   "file_extension": ".py",
   "mimetype": "text/x-python",
   "name": "python",
   "nbconvert_exporter": "python",
   "pygments_lexer": "ipython3",
   "version": "3.9.16"
  }
 },
 "nbformat": 4,
 "nbformat_minor": 5
}
